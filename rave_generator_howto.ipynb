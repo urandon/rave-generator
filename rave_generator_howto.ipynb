{
 "cells": [
  {
   "cell_type": "code",
   "execution_count": 3,
   "metadata": {
    "collapsed": true
   },
   "outputs": [],
   "source": [
    "import rave_generator\n",
    "from rave_generator import TrigramMarkovChain"
   ]
  },
  {
   "cell_type": "markdown",
   "metadata": {},
   "source": [
    "## Load model"
   ]
  },
  {
   "cell_type": "code",
   "execution_count": 4,
   "metadata": {
    "collapsed": false
   },
   "outputs": [],
   "source": [
    "model = rave_generator.load_model('fantastic_model.pickled')"
   ]
  },
  {
   "cell_type": "markdown",
   "metadata": {},
   "source": [
    "## Or train model from the  corpus"
   ]
  },
  {
   "cell_type": "code",
   "execution_count": null,
   "metadata": {
    "collapsed": true
   },
   "outputs": [],
   "source": [
    "model = rave_generator.gather_mode('./corpus')"
   ]
  },
  {
   "cell_type": "markdown",
   "metadata": {},
   "source": [
    "You can dirrectry prepare model for generating. Preparing will be performed automatically on the first sentence generation."
   ]
  },
  {
   "cell_type": "code",
   "execution_count": null,
   "metadata": {
    "collapsed": true
   },
   "outputs": [],
   "source": [
    "model.generate_prepare()"
   ]
  },
  {
   "cell_type": "markdown",
   "metadata": {},
   "source": [
    "## Generate some text"
   ]
  },
  {
   "cell_type": "code",
   "execution_count": 5,
   "metadata": {
    "collapsed": false
   },
   "outputs": [
    {
     "data": {
      "text/plain": [
       "<generator object sentence at 0x000000010D99ABD0>"
      ]
     },
     "execution_count": 5,
     "metadata": {},
     "output_type": "execute_result"
    }
   ],
   "source": [
    "model.sentence() # -- is a generator"
   ]
  },
  {
   "cell_type": "code",
   "execution_count": 6,
   "metadata": {
    "collapsed": false
   },
   "outputs": [
    {
     "name": "stdout",
     "output_type": "stream",
     "text": [
      "There's nobody there and a Babel of sounds out of its being opened by a distress signal.\n"
     ]
    }
   ],
   "source": [
    "print u' '.join(model.sentence()) + '.'"
   ]
  },
  {
   "cell_type": "code",
   "execution_count": 12,
   "metadata": {
    "collapsed": false
   },
   "outputs": [
    {
     "name": "stdout",
     "output_type": "stream",
     "text": [
      "Rebake him or those little offices in which case.\n"
     ]
    }
   ],
   "source": [
    "# or it can be done by calling a special function\n",
    "print rave_generator.sentence(model)"
   ]
  },
  {
   "cell_type": "markdown",
   "metadata": {},
   "source": [
    "#### Make a paragraph"
   ]
  },
  {
   "cell_type": "code",
   "execution_count": 19,
   "metadata": {
    "collapsed": false
   },
   "outputs": [
    {
     "name": "stdout",
     "output_type": "stream",
     "text": [
      "\tDung carts o'course. Shall I ever drove one. She drummed her\n",
      "fingers in her tiny coven consisting of a remarkable look with which\n",
      "the memory of them were strewn around me. It is an automatic reaction\n",
      "in response. Their thoughts were coming. I didn't know anything. That\n",
      "was a glorious and epic de feat at the cup. Yes but it's home he\n",
      "really was. I will maintain your temperature above the floor at night\n",
      "and they began for Ted. He wouldn't dare stop investigating other\n",
      "possibilities and to go quietly to step across to him he married.\n"
     ]
    }
   ],
   "source": [
    "sentenses = (rave_generator.sentence(model) for x in xrange(10))\n",
    "print '\\t' + rave_generator.split_paragraph(' '.join(sentenses), maxwidth=70)"
   ]
  },
  {
   "cell_type": "markdown",
   "metadata": {},
   "source": [
    "#### Generate a lot of words"
   ]
  },
  {
   "cell_type": "code",
   "execution_count": 21,
   "metadata": {
    "collapsed": false
   },
   "outputs": [
    {
     "name": "stdout",
     "output_type": "stream",
     "text": [
      "word count: 10057"
     ]
    }
   ],
   "source": [
    "rave_generator.generate_text('a_lot_of_words', model, words_to_generate=10000)"
   ]
  },
  {
   "cell_type": "code",
   "execution_count": 22,
   "metadata": {
    "collapsed": false
   },
   "outputs": [
    {
     "name": "stdout",
     "output_type": "stream",
     "text": [
      "  703 10057 54933 a_lot_of_words\n"
     ]
    }
   ],
   "source": [
    "!wc a_lot_of_words"
   ]
  },
  {
   "cell_type": "code",
   "execution_count": 23,
   "metadata": {
    "collapsed": false
   },
   "outputs": [
    {
     "name": "stdout",
     "output_type": "stream",
     "text": [
      "\tYes. They watched him because its owner stepped onto the cool of course. When\n",
      "you die out unavenged and if they durst spare him one. She's definitely getting\n",
      "nearer. Said Bella looking up at eight cattle at ten yards start. He is an\n",
      "exaggeration for comic relief. 42. You're not standing here is Pixie Albert looming\n",
      "in the dark servant was called out. Cried his mother heard you myself. Scott with a\n",
      "pair of slacks and long enough t wish y'd lived on baked hedgehog. Whatever else the\n",
      "place and the great apron of the hallway ignoring his input. You may look five\n",
      "judging by the sleeve a terrific sound that started on them with a bandage. He has\n",
      "set me a billionaire I will not help I can match us in here. Avalon said Not in my\n",
      "head by way of telling the truth was there no misfits. But it's no good.\n",
      "\tNow this. Squeak. Maybe not sorrow but always in green silk one. Mouth Smiling.\n",
      "You could have fancied he must be limited.\n",
      "\tSaid Aziraphale. I said it and the occasional dwelling place. This is a hot\n",
      "beef steak pudding and isinglass till at last did young Mr. When he saw it than you\n",
      "would be injudicious. He said What. You men. He pushed the enormous smoking face to\n",
      "the Bank if you'll give me orders Miss Aching. She watched him absently. Without a\n",
      "word to the Mage Wars left whole.\n",
      "\tLook on the seashore is the same torment would eventually find a way. Fisher\n",
      "and myself the Mule speak inventively. A guilty conscience. Neilette pointed to where\n",
      "the person at the moment he passed on the nature of the right bank of the grey head\n",
      "bending toward his own voice began It is 42 but not many married women and their\n",
      "skins Except that it was impossible. There were blue to new planets and commercial\n",
      "degree I could hardly stand. This is a long time bless you. That's the page on hold\n",
      "and they were ever cold enough to hire an Out worlder anytime. Well he could see the\n",
      "headline Mystery Lady Vanishes and a Public Charity is immeasurably more knowing look\n",
      "but said Moist. And as for example read I mean said Wendel grimly. It was more\n",
      "intelligent than they do to hide. Glenda and she would have to use triple time\n",
      "integrals but in the world with me. Never thought I'd see the law of the heart Miss\n",
      "Lowfield. Any chance of being accepted Cavalletto suffered the slightest difference.\n",
      "\tAnd not by much accumulative capital from such a case if we can probably\n",
      "remember went to see what's in there at all. Brant said Let us say. It's a gift to\n",
      "their having hanged himself to grow where not knows whether the payment was a lot of\n",
      "wishing to be implicated. Forell was expansively pleased. All my life to say. Or\n",
      "something else and a fish bone on her shoulders. This is a spy in nonessentials.\n",
      "Typical rat trick. Didn't feel like they're breaking the First Law. Rubin mentioned\n",
      "about you and your suspicion so not taking any notice. Of course with a consideration\n",
      "of your talking of Betsey proclaiming her injuries and sprinting for the last time\n",
      "you instructed he tried to see him every day that on one side and the particularly\n",
      "fetching rosebud pattern broke into a steady and his guides. Nothing is spoken of\n",
      "though his physical description was hardly affected at all.\n",
      "\tNeville was interested in you you've got your name and waved. We have no broken\n",
      "bones. Why is it Derec said. Jane threw her away from actual measurement in early\n",
      "Trantorian history throbbing with life support systems are open at one another. Well\n",
      "us. More fool me either to humans. Will it help with the physical and mental injuries\n",
      "of an outhouse and was glad she didn't even notice it. He went from agonized grief to\n",
      "him to assume that a life interest in Bella's presence or absence of the beams. Dom\n",
      "screamed. Next to him and Whistler went to bed while she was going to stuff the other\n",
      "thing I saw this play.\n",
      "\tScum all right it's not fair. The crew saw you. Then he hit it sir I know the\n",
      "kind of pitying me it is well this is nonsense. And if we cannot possibly be so fond\n"
     ]
    }
   ],
   "source": [
    "!head -n 50 a_lot_of_words"
   ]
  },
  {
   "cell_type": "code",
   "execution_count": 24,
   "metadata": {
    "collapsed": false
   },
   "outputs": [
    {
     "name": "stdout",
     "output_type": "stream",
     "text": [
      "I ever brought a letter to i. Soon his granddaughter was. Number two is Jane said\n",
      "Chad in particular with a groan. The walls and floors prepared for it myself guardian\n",
      "I was in the room left to battle stations said Johnny miserably. The chink of pottery\n",
      "elephants.\n",
      "\tI shall take you to deny it Sir said Mr. But but Look Golan if you should have\n",
      "been much like one listening to it. For quite the contrary Gabriel Grub. They have\n",
      "all of an acrobat she handed him a severe look. Worn looking stresscrete floors and\n",
      "swung past its work. Said Florence. Those delicious smells of a dagger. But there\n",
      "were several foot shaped boards. Death grinned. They will simply take down. Rumors.\n",
      "The buzz in the day before. He would have been a very favorable. Dark figures lurked.\n"
     ]
    }
   ],
   "source": [
    "!tail a_lot_of_words"
   ]
  },
  {
   "cell_type": "markdown",
   "metadata": {},
   "source": [
    "# Thanks for your attention"
   ]
  }
 ],
 "metadata": {
  "kernelspec": {
   "display_name": "Python 2",
   "language": "python",
   "name": "python2"
  },
  "language_info": {
   "codemirror_mode": {
    "name": "ipython",
    "version": 2
   },
   "file_extension": ".py",
   "mimetype": "text/x-python",
   "name": "python",
   "nbconvert_exporter": "python",
   "pygments_lexer": "ipython2",
   "version": "2.7.10"
  }
 },
 "nbformat": 4,
 "nbformat_minor": 0
}
